{
  "nbformat": 4,
  "nbformat_minor": 0,
  "metadata": {
    "colab": {
      "provenance": []
    },
    "kernelspec": {
      "name": "python3",
      "display_name": "Python 3"
    },
    "language_info": {
      "name": "python"
    }
  },
  "cells": [
    {
      "cell_type": "code",
      "metadata": {
        "id": "qgJeyLTUWmOZ"
      },
      "source": [
        "from sklearn.datasets import load_digits\n",
        "import matplotlib.pyplot as plt\n",
        "import numpy as np\n",
        "import pandas as pd"
      ],
      "execution_count": null,
      "outputs": []
    },
    {
      "cell_type": "code",
      "source": [
        "X,y=load_digits().data,load_digits().target"
      ],
      "metadata": {
        "id": "iW_di_Z0arf_"
      },
      "execution_count": null,
      "outputs": []
    },
    {
      "cell_type": "code",
      "source": [
        "X"
      ],
      "metadata": {
        "colab": {
          "base_uri": "https://localhost:8080/"
        },
        "id": "YuiAksDha8VW",
        "outputId": "a51e6ff6-3203-4350-a854-aa0c408d6d7a"
      },
      "execution_count": null,
      "outputs": [
        {
          "output_type": "execute_result",
          "data": {
            "text/plain": [
              "array([[ 0.,  0.,  5., ...,  0.,  0.,  0.],\n",
              "       [ 0.,  0.,  0., ..., 10.,  0.,  0.],\n",
              "       [ 0.,  0.,  0., ..., 16.,  9.,  0.],\n",
              "       ...,\n",
              "       [ 0.,  0.,  1., ...,  6.,  0.,  0.],\n",
              "       [ 0.,  0.,  2., ..., 12.,  0.,  0.],\n",
              "       [ 0.,  0., 10., ..., 12.,  1.,  0.]])"
            ]
          },
          "metadata": {},
          "execution_count": 191
        }
      ]
    },
    {
      "cell_type": "code",
      "source": [
        "X.shape"
      ],
      "metadata": {
        "colab": {
          "base_uri": "https://localhost:8080/"
        },
        "id": "rI0Szx_0beCZ",
        "outputId": "af5a808e-1fb4-4763-f80d-0e13f560b9d5"
      },
      "execution_count": null,
      "outputs": [
        {
          "output_type": "execute_result",
          "data": {
            "text/plain": [
              "(1797, 64)"
            ]
          },
          "metadata": {},
          "execution_count": 192
        }
      ]
    },
    {
      "cell_type": "code",
      "source": [
        "y.shape"
      ],
      "metadata": {
        "colab": {
          "base_uri": "https://localhost:8080/"
        },
        "id": "nmq75uQ-bhzY",
        "outputId": "e5eef42f-cdb6-4ad2-a76a-6df1309889c6"
      },
      "execution_count": null,
      "outputs": [
        {
          "output_type": "execute_result",
          "data": {
            "text/plain": [
              "(1797,)"
            ]
          },
          "metadata": {},
          "execution_count": 193
        }
      ]
    },
    {
      "cell_type": "code",
      "source": [
        "plt.imshow(X[0].reshape(8,8))"
      ],
      "metadata": {
        "colab": {
          "base_uri": "https://localhost:8080/",
          "height": 283
        },
        "id": "ZStBL3FNbm3o",
        "outputId": "54e19f81-be6c-43d6-b6b4-8f44f943b741"
      },
      "execution_count": null,
      "outputs": [
        {
          "output_type": "execute_result",
          "data": {
            "text/plain": [
              "<matplotlib.image.AxesImage at 0x7fa819c0d6d0>"
            ]
          },
          "metadata": {},
          "execution_count": 194
        },
        {
          "output_type": "display_data",
          "data": {
            "text/plain": [
              "<Figure size 432x288 with 1 Axes>"
            ],
            "image/png": "[encoded data removed]"
          },
          "metadata": {
            "needs_background": "light"
          }
        }
      ]
    },
    {
      "cell_type": "code",
      "source": [
        "def softmax(a):\n",
        "  e_a=np.exp(a)\n",
        "  ans=e_a/np.sum(e_a,axis=1, keepdims= True)\n",
        "  return ans"
      ],
      "metadata": {
        "id": "vP7zojSjcze7"
      },
      "execution_count": null,
      "outputs": []
    },
    {
      "cell_type": "code",
      "source": [
        "softmax([[90,10],[70,30]])"
      ],
      "metadata": {
        "colab": {
          "base_uri": "https://localhost:8080/"
        },
        "id": "TN2sVWbydbUc",
        "outputId": "1478936a-0a8e-4bd1-ef2c-6cf397b99405"
      },
      "execution_count": null,
      "outputs": [
        {
          "output_type": "execute_result",
          "data": {
            "text/plain": [
              "array([[1.00000000e+00, 1.80485139e-35],\n",
              "       [1.00000000e+00, 4.24835426e-18]])"
            ]
          },
          "metadata": {},
          "execution_count": 196
        }
      ]
    },
    {
      "cell_type": "code",
      "source": [
        "class NN:\n",
        "  def __init__(self,input_size=64,layers=[500,1000],output=10):\n",
        "    np.random.seed(0)\n",
        "    model = {}\n",
        "    model['w1']=np.random.randn(input_size,layers[0])\n",
        "    model['b1']=np.zeros((1,layers[0]))\n",
        "\n",
        "    model['w2']=np.random.randn(layers[0],layers[1])\n",
        "    model['b2']=np.zeros((1,layers[1]))\n",
        "\n",
        "    model['w3']=np.random.randn(layers[1],output)\n",
        "    model['b3']=np.zeros((1,output))\n",
        "\n",
        "    self.model=model\n",
        "\n",
        "  def forward(self,X):\n",
        "    z1 = np.dot(X,self.model['w1']) + self.model['b1']\n",
        "    a1=np.tanh(z1)\n",
        "\n",
        "    z2 = np.dot(a1,self.model['w2']) + self.model['b2']\n",
        "    a2=np.tanh(z2)\n",
        "\n",
        "    z3 = np.dot(a2,self.model['w3']) + self.model['b3']\n",
        "    y_=softmax(z3)\n",
        "\n",
        "    self.activation_outputs=(a1,a2,y_)\n",
        "    return y_\n",
        "\n",
        "  def backward(self,X,y,learning_rate=0.01):\n",
        "    w1,w2,w3=self.model['w1'],self.model['w2'],self.model['w3']\n",
        "    b1,b2,b3=self.model['b1'],self.model['b2'],self.model['b3']\n",
        "    m=X.shape[0]\n",
        "    a1,a2,y_=self.activation_outputs\n",
        "\n",
        "    delta3=y_-y\n",
        "    dw3=np.dot(a2.T,delta3)\n",
        "    db3=np.sum(delta3,axis=0)/float(m)\n",
        "\n",
        "    delta2=(1-np.square((a2))*np.dot(delta3,w3.T))\n",
        "    dw2=np.dot(a1.T,delta2)\n",
        "    db2=np.sum(delta2,axis=0)/float(m)\n",
        "\n",
        "    delta1=(1-np.square((a1))*np.dot(delta2,w2.T))\n",
        "    dw1=np.dot(X.T,delta1)\n",
        "    db1=np.sum(delta1,axis=0)/float(m)\n",
        "\n",
        "    self.model['w1'] -=learning_rate*dw1/m\n",
        "    self.model['b1'] -=learning_rate*db1\n",
        "\n",
        "    self.model['w2'] -=learning_rate*dw2/m\n",
        "    self.model['b2'] -=learning_rate*db2\n",
        "\n",
        "    self.model['w3'] -=learning_rate*dw3/m\n",
        "    self.model['b3'] -=learning_rate*db3\n",
        "\n",
        "  def predict(self,X):\n",
        "    y_out=self.forward(X)\n",
        "    return np.argmax(y_out,axis=1)\n"
      ],
      "metadata": {
        "id": "K7POipeVgrzs"
      },
      "execution_count": null,
      "outputs": []
    },
    {
      "cell_type": "code",
      "source": [
        "def loss(y_oht,y_):\n",
        "    l=-np.mean(y_oht*np.log(y_))\n",
        "    return l"
      ],
      "metadata": {
        "id": "TjS-zS255sWh"
      },
      "execution_count": null,
      "outputs": []
    },
    {
      "cell_type": "code",
      "source": [
        "def one_hot(y,depth):\n",
        "  m=y.shape[0]\n",
        "  y_oht=np.zeros((m,depth))\n",
        "  y_oht[np.arange(m),y] = 1\n",
        "  return y_oht"
      ],
      "metadata": {
        "id": "E43jsNAw5zXJ"
      },
      "execution_count": null,
      "outputs": []
    },
    {
      "cell_type": "code",
      "source": [
        "from math import log10\n",
        "def train(X,y,model,epochs,learning_rate=0.01,logs=True):\n",
        "  training_loss=[]\n",
        "  classes=10\n",
        "  y_oht=one_hot(y,classes)\n",
        "  for ix in range (epochs):\n",
        "    y_=model.forward(X)\n",
        "    l=loss(y_oht,y_)\n",
        "    model.backward(X,y_oht,learning_rate)\n",
        "    training_loss.append(l)\n",
        "    if(logs):\n",
        "      print(\"Epoch %d Loss %.4f\"%(ix,l))\n",
        "  return training_loss"
      ],
      "metadata": {
        "id": "Hs2Qa1qy6Z1x"
      },
      "execution_count": null,
      "outputs": []
    },
    {
      "cell_type": "code",
      "source": [
        "model = NN()"
      ],
      "metadata": {
        "id": "cPsmbOSn_ZRP"
      },
      "execution_count": null,
      "outputs": []
    },
    {
      "cell_type": "code",
      "source": [
        "loss = train(X,y,model,700)"
      ],
      "metadata": {
        "colab": {
          "base_uri": "https://localhost:8080/"
        },
        "id": "PstpkeOp_DGH",
        "outputId": "2297a844-4806-4034-c66e-b8c4360cf7dd"
      },
      "execution_count": null,
      "outputs": [
        {
          "output_type": "stream",
          "name": "stdout",
          "text": [
            "Epoch 0 Loss 4.6186\n",
            "Epoch 1 Loss 4.8653\n",
            "Epoch 2 Loss 4.1271\n",
            "Epoch 3 Loss 3.9874\n",
            "Epoch 4 Loss 2.8601\n",
            "Epoch 5 Loss 2.9716\n",
            "Epoch 6 Loss 3.1685\n",
            "Epoch 7 Loss 3.0183\n",
            "Epoch 8 Loss 2.0481\n",
            "Epoch 9 Loss 2.4723\n",
            "Epoch 10 Loss 3.4921\n",
            "Epoch 11 Loss 5.1966\n",
            "Epoch 12 Loss 5.1050\n",
            "Epoch 13 Loss 5.4818\n",
            "Epoch 14 Loss 6.6960\n",
            "Epoch 15 Loss 7.5437\n",
            "Epoch 16 Loss 4.2130\n",
            "Epoch 17 Loss 8.6878\n",
            "Epoch 18 Loss 11.6708\n",
            "Epoch 19 Loss 6.1238\n",
            "Epoch 20 Loss 3.4990\n",
            "Epoch 21 Loss 2.1721\n",
            "Epoch 22 Loss 4.0179\n",
            "Epoch 23 Loss 7.0235\n",
            "Epoch 24 Loss 8.7207\n",
            "Epoch 25 Loss 8.4431\n",
            "Epoch 26 Loss 5.6812\n",
            "Epoch 27 Loss 8.7287\n",
            "Epoch 28 Loss 15.0967\n",
            "Epoch 29 Loss 17.1045\n",
            "Epoch 30 Loss 15.8082\n",
            "Epoch 31 Loss 8.6341\n",
            "Epoch 32 Loss 8.5329\n",
            "Epoch 33 Loss 4.5787\n",
            "Epoch 34 Loss 11.9232\n",
            "Epoch 35 Loss 15.3653\n",
            "Epoch 36 Loss 18.4135\n",
            "Epoch 37 Loss 13.4955\n",
            "Epoch 38 Loss 8.7515\n",
            "Epoch 39 Loss 6.7375\n",
            "Epoch 40 Loss 8.8414\n",
            "Epoch 41 Loss 11.3392\n",
            "Epoch 42 Loss 6.5245\n",
            "Epoch 43 Loss 9.4916\n",
            "Epoch 44 Loss 13.1106\n",
            "Epoch 45 Loss 12.4943\n",
            "Epoch 46 Loss 7.9389\n",
            "Epoch 47 Loss 4.0210\n",
            "Epoch 48 Loss 4.3490\n",
            "Epoch 49 Loss 9.0534\n",
            "Epoch 50 Loss 15.2993\n",
            "Epoch 51 Loss 16.9235\n",
            "Epoch 52 Loss 16.1249\n",
            "Epoch 53 Loss 12.2728\n",
            "Epoch 54 Loss 7.6679\n",
            "Epoch 55 Loss 2.8343\n",
            "Epoch 56 Loss 4.4077\n",
            "Epoch 57 Loss 9.6311\n",
            "Epoch 58 Loss 17.3327\n",
            "Epoch 59 Loss 22.2443\n",
            "Epoch 60 Loss 23.4629\n",
            "Epoch 61 Loss 20.7878\n",
            "Epoch 62 Loss 13.3671\n",
            "Epoch 63 Loss 7.4608\n",
            "Epoch 64 Loss 6.8886\n",
            "Epoch 65 Loss 10.6536\n",
            "Epoch 66 Loss 12.0603\n",
            "Epoch 67 Loss 12.1036\n",
            "Epoch 68 Loss 9.6006\n",
            "Epoch 69 Loss 7.4495\n",
            "Epoch 70 Loss 9.3042\n",
            "Epoch 71 Loss 8.9907\n",
            "Epoch 72 Loss 7.3022\n",
            "Epoch 73 Loss 5.4984\n",
            "Epoch 74 Loss 6.8566\n",
            "Epoch 75 Loss 7.3662\n",
            "Epoch 76 Loss 7.9510\n",
            "Epoch 77 Loss 7.9592\n",
            "Epoch 78 Loss 7.8588\n",
            "Epoch 79 Loss 7.3051\n",
            "Epoch 80 Loss 6.9473\n",
            "Epoch 81 Loss 6.0791\n",
            "Epoch 82 Loss 6.3515\n",
            "Epoch 83 Loss 7.8852\n",
            "Epoch 84 Loss 9.2609\n",
            "Epoch 85 Loss 9.7837\n",
            "Epoch 86 Loss 8.9301\n",
            "Epoch 87 Loss 8.0677\n",
            "Epoch 88 Loss 4.7999\n",
            "Epoch 89 Loss 3.4251\n",
            "Epoch 90 Loss 6.5576\n",
            "Epoch 91 Loss 12.6754\n",
            "Epoch 92 Loss 18.9700\n",
            "Epoch 93 Loss 19.4795\n",
            "Epoch 94 Loss 16.3015\n",
            "Epoch 95 Loss 11.4516\n",
            "Epoch 96 Loss 8.1912\n",
            "Epoch 97 Loss 5.1887\n",
            "Epoch 98 Loss 4.1732\n",
            "Epoch 99 Loss 5.8139\n",
            "Epoch 100 Loss 9.0893\n",
            "Epoch 101 Loss 14.8608\n",
            "Epoch 102 Loss 19.6217\n",
            "Epoch 103 Loss 22.5214\n",
            "Epoch 104 Loss 23.0298\n",
            "Epoch 105 Loss 21.6221\n",
            "Epoch 106 Loss 18.4732\n",
            "Epoch 107 Loss 14.6070\n",
            "Epoch 108 Loss 10.5261\n",
            "Epoch 109 Loss 7.9781\n",
            "Epoch 110 Loss 9.8669\n",
            "Epoch 111 Loss 12.6532\n",
            "Epoch 112 Loss 13.5397\n",
            "Epoch 113 Loss 10.4923\n",
            "Epoch 114 Loss 6.5920\n",
            "Epoch 115 Loss 7.8906\n",
            "Epoch 116 Loss 9.3669\n",
            "Epoch 117 Loss 9.9649\n",
            "Epoch 118 Loss 9.5312\n",
            "Epoch 119 Loss 9.9553\n",
            "Epoch 120 Loss 9.0218\n",
            "Epoch 121 Loss 7.1142\n",
            "Epoch 122 Loss 6.1013\n",
            "Epoch 123 Loss 4.6631\n",
            "Epoch 124 Loss 3.9935\n",
            "Epoch 125 Loss 3.3652\n",
            "Epoch 126 Loss 3.5956\n",
            "Epoch 127 Loss 4.9255\n",
            "Epoch 128 Loss 5.1394\n",
            "Epoch 129 Loss 3.8823\n",
            "Epoch 130 Loss 4.7201\n",
            "Epoch 131 Loss 6.9393\n",
            "Epoch 132 Loss 6.6545\n",
            "Epoch 133 Loss 4.1352\n",
            "Epoch 134 Loss 2.8300\n",
            "Epoch 135 Loss 1.9950\n",
            "Epoch 136 Loss 1.8854\n",
            "Epoch 137 Loss 2.4985\n",
            "Epoch 138 Loss 2.6601\n",
            "Epoch 139 Loss 2.2346\n",
            "Epoch 140 Loss 1.8233\n",
            "Epoch 141 Loss 2.1085\n",
            "Epoch 142 Loss 2.9380\n",
            "Epoch 143 Loss 4.5038\n",
            "Epoch 144 Loss 7.1744\n",
            "Epoch 145 Loss 10.4046\n",
            "Epoch 146 Loss 14.9784\n",
            "Epoch 147 Loss 18.9152\n",
            "Epoch 148 Loss 19.5285\n",
            "Epoch 149 Loss 18.2127\n",
            "Epoch 150 Loss 17.3613\n",
            "Epoch 151 Loss 16.2348\n",
            "Epoch 152 Loss 13.5089\n",
            "Epoch 153 Loss 10.7765\n",
            "Epoch 154 Loss 5.5505\n",
            "Epoch 155 Loss 2.4461\n",
            "Epoch 156 Loss 2.2813\n",
            "Epoch 157 Loss 3.0644\n",
            "Epoch 158 Loss 3.7078\n",
            "Epoch 159 Loss 4.6409\n",
            "Epoch 160 Loss 4.8981\n",
            "Epoch 161 Loss 4.6414\n",
            "Epoch 162 Loss 4.5904\n",
            "Epoch 163 Loss 4.0474\n",
            "Epoch 164 Loss 4.2955\n",
            "Epoch 165 Loss 4.8137\n",
            "Epoch 166 Loss 5.3860\n",
            "Epoch 167 Loss 5.4245\n",
            "Epoch 168 Loss 6.3280\n",
            "Epoch 169 Loss 6.9828\n",
            "Epoch 170 Loss 6.9567\n",
            "Epoch 171 Loss 7.5590\n",
            "Epoch 172 Loss 7.8298\n",
            "Epoch 173 Loss 5.7643\n",
            "Epoch 174 Loss 4.3620\n",
            "Epoch 175 Loss 4.0417\n",
            "Epoch 176 Loss 3.9524\n",
            "Epoch 177 Loss 3.9679\n",
            "Epoch 178 Loss 4.3698\n",
            "Epoch 179 Loss 4.6963\n",
            "Epoch 180 Loss 4.7891\n",
            "Epoch 181 Loss 4.1364\n",
            "Epoch 182 Loss 4.9376\n",
            "Epoch 183 Loss 7.3835\n",
            "Epoch 184 Loss 9.8200\n",
            "Epoch 185 Loss 10.2063\n",
            "Epoch 186 Loss 8.9798\n",
            "Epoch 187 Loss 8.7666\n",
            "Epoch 188 Loss 8.0061\n",
            "Epoch 189 Loss 6.1048\n",
            "Epoch 190 Loss 5.5351\n",
            "Epoch 191 Loss 4.5495\n",
            "Epoch 192 Loss 3.5724\n",
            "Epoch 193 Loss 4.6936\n",
            "Epoch 194 Loss 5.2902\n",
            "Epoch 195 Loss 5.5690\n",
            "Epoch 196 Loss 6.6837\n",
            "Epoch 197 Loss 9.0410\n",
            "Epoch 198 Loss 12.1463\n",
            "Epoch 199 Loss 15.2679\n",
            "Epoch 200 Loss 17.5272\n",
            "Epoch 201 Loss 15.5795\n",
            "Epoch 202 Loss 12.2490\n",
            "Epoch 203 Loss 10.5341\n",
            "Epoch 204 Loss 9.4138\n",
            "Epoch 205 Loss 7.4476\n",
            "Epoch 206 Loss 6.3574\n",
            "Epoch 207 Loss 5.9337\n",
            "Epoch 208 Loss 5.9262\n",
            "Epoch 209 Loss 6.7828\n",
            "Epoch 210 Loss 7.6214\n",
            "Epoch 211 Loss 7.6864\n",
            "Epoch 212 Loss 7.2516\n",
            "Epoch 213 Loss 5.8656\n",
            "Epoch 214 Loss 5.1525\n",
            "Epoch 215 Loss 5.0361\n",
            "Epoch 216 Loss 4.8525\n",
            "Epoch 217 Loss 4.5386\n",
            "Epoch 218 Loss 4.3394\n",
            "Epoch 219 Loss 4.5705\n",
            "Epoch 220 Loss 4.8799\n",
            "Epoch 221 Loss 4.8232\n",
            "Epoch 222 Loss 4.7772\n",
            "Epoch 223 Loss 4.6704\n",
            "Epoch 224 Loss 4.8947\n",
            "Epoch 225 Loss 5.4145\n",
            "Epoch 226 Loss 6.8805\n",
            "Epoch 227 Loss 9.1637\n",
            "Epoch 228 Loss 11.9933\n",
            "Epoch 229 Loss 14.1751\n",
            "Epoch 230 Loss 14.9165\n",
            "Epoch 231 Loss 14.2099\n",
            "Epoch 232 Loss 12.8655\n",
            "Epoch 233 Loss 9.9653\n",
            "Epoch 234 Loss 6.5580\n",
            "Epoch 235 Loss 3.4452\n",
            "Epoch 236 Loss 2.1718\n",
            "Epoch 237 Loss 1.9385\n",
            "Epoch 238 Loss 2.2730\n",
            "Epoch 239 Loss 2.5722\n",
            "Epoch 240 Loss 2.5658\n",
            "Epoch 241 Loss 2.4298\n",
            "Epoch 242 Loss 2.4768\n",
            "Epoch 243 Loss 2.8342\n",
            "Epoch 244 Loss 3.6943\n",
            "Epoch 245 Loss 4.4351\n",
            "Epoch 246 Loss 5.8676\n",
            "Epoch 247 Loss 6.3346\n",
            "Epoch 248 Loss 5.5909\n",
            "Epoch 249 Loss 4.6262\n",
            "Epoch 250 Loss 3.6321\n",
            "Epoch 251 Loss 3.5355\n",
            "Epoch 252 Loss 3.1745\n",
            "Epoch 253 Loss 2.8585\n",
            "Epoch 254 Loss 3.3681\n",
            "Epoch 255 Loss 3.4359\n",
            "Epoch 256 Loss 3.4401\n",
            "Epoch 257 Loss 3.8935\n",
            "Epoch 258 Loss 4.4051\n",
            "Epoch 259 Loss 4.5979\n",
            "Epoch 260 Loss 4.8520\n",
            "Epoch 261 Loss 4.9790\n",
            "Epoch 262 Loss 5.3316\n",
            "Epoch 263 Loss 5.6141\n",
            "Epoch 264 Loss 5.5366\n",
            "Epoch 265 Loss 5.6059\n",
            "Epoch 266 Loss 5.7610\n",
            "Epoch 267 Loss 5.6555\n",
            "Epoch 268 Loss 6.1706\n",
            "Epoch 269 Loss 7.7409\n",
            "Epoch 270 Loss 8.9695\n",
            "Epoch 271 Loss 9.7076\n",
            "Epoch 272 Loss 10.1725\n",
            "Epoch 273 Loss 10.3748\n",
            "Epoch 274 Loss 9.5397\n",
            "Epoch 275 Loss 7.9268\n",
            "Epoch 276 Loss 6.9069\n",
            "Epoch 277 Loss 6.1235\n",
            "Epoch 278 Loss 5.1224\n",
            "Epoch 279 Loss 4.7331\n",
            "Epoch 280 Loss 5.0876\n",
            "Epoch 281 Loss 6.3230\n",
            "Epoch 282 Loss 8.6024\n",
            "Epoch 283 Loss 10.8424\n",
            "Epoch 284 Loss 12.5197\n",
            "Epoch 285 Loss 13.7896\n",
            "Epoch 286 Loss 11.6648\n",
            "Epoch 287 Loss 9.7417\n",
            "Epoch 288 Loss 8.8879\n",
            "Epoch 289 Loss 9.1423\n",
            "Epoch 290 Loss 9.9317\n",
            "Epoch 291 Loss 10.8309\n",
            "Epoch 292 Loss 12.0153\n",
            "Epoch 293 Loss 13.5951\n",
            "Epoch 294 Loss 14.8585\n",
            "Epoch 295 Loss 14.7311\n",
            "Epoch 296 Loss 12.9729\n",
            "Epoch 297 Loss 11.5740\n",
            "Epoch 298 Loss 9.7233\n",
            "Epoch 299 Loss 6.7920\n",
            "Epoch 300 Loss 4.2411\n",
            "Epoch 301 Loss 3.8430\n",
            "Epoch 302 Loss 4.6184\n",
            "Epoch 303 Loss 6.4199\n",
            "Epoch 304 Loss 9.4041\n",
            "Epoch 305 Loss 11.4601\n",
            "Epoch 306 Loss 12.6195\n",
            "Epoch 307 Loss 12.4316\n",
            "Epoch 308 Loss 11.9046\n",
            "Epoch 309 Loss 10.6396\n",
            "Epoch 310 Loss 8.7623\n",
            "Epoch 311 Loss 7.5411\n",
            "Epoch 312 Loss 6.5278\n",
            "Epoch 313 Loss 6.1558\n",
            "Epoch 314 Loss 6.0796\n",
            "Epoch 315 Loss 6.3436\n",
            "Epoch 316 Loss 6.5691\n",
            "Epoch 317 Loss 6.4411\n",
            "Epoch 318 Loss 5.7658\n",
            "Epoch 319 Loss 5.2755\n",
            "Epoch 320 Loss 5.9243\n",
            "Epoch 321 Loss 6.4601\n",
            "Epoch 322 Loss 6.6983\n",
            "Epoch 323 Loss 7.1575\n",
            "Epoch 324 Loss 7.5082\n",
            "Epoch 325 Loss 7.1149\n",
            "Epoch 326 Loss 5.8721\n",
            "Epoch 327 Loss 5.0036\n",
            "Epoch 328 Loss 3.6647\n",
            "Epoch 329 Loss 3.2288\n",
            "Epoch 330 Loss 2.9559\n",
            "Epoch 331 Loss 2.7338\n",
            "Epoch 332 Loss 3.1789\n",
            "Epoch 333 Loss 3.8580\n",
            "Epoch 334 Loss 4.5110\n",
            "Epoch 335 Loss 4.6738\n",
            "Epoch 336 Loss 4.7593\n",
            "Epoch 337 Loss 4.2187\n",
            "Epoch 338 Loss 4.2413\n",
            "Epoch 339 Loss 5.7070\n",
            "Epoch 340 Loss 9.2980\n",
            "Epoch 341 Loss 13.2531\n",
            "Epoch 342 Loss 15.8106\n",
            "Epoch 343 Loss 18.0026\n",
            "Epoch 344 Loss 21.0946\n",
            "Epoch 345 Loss 24.0718\n",
            "Epoch 346 Loss 24.7123\n",
            "Epoch 347 Loss 24.2525\n",
            "Epoch 348 Loss 22.9372\n",
            "Epoch 349 Loss 20.1606\n",
            "Epoch 350 Loss 17.4883\n",
            "Epoch 351 Loss 15.0931\n",
            "Epoch 352 Loss 11.9305\n",
            "Epoch 353 Loss 8.8208\n",
            "Epoch 354 Loss 6.7500\n",
            "Epoch 355 Loss 6.0245\n",
            "Epoch 356 Loss 6.5605\n",
            "Epoch 357 Loss 6.6576\n",
            "Epoch 358 Loss 5.8177\n",
            "Epoch 359 Loss 5.2793\n",
            "Epoch 360 Loss 4.9597\n",
            "Epoch 361 Loss 3.7543\n",
            "Epoch 362 Loss 3.3397\n",
            "Epoch 363 Loss 3.5043\n",
            "Epoch 364 Loss 3.9967\n",
            "Epoch 365 Loss 4.8946\n",
            "Epoch 366 Loss 5.9674\n",
            "Epoch 367 Loss 7.0976\n",
            "Epoch 368 Loss 8.0333\n",
            "Epoch 369 Loss 8.8366\n",
            "Epoch 370 Loss 9.0230\n",
            "Epoch 371 Loss 8.5685\n",
            "Epoch 372 Loss 7.9754\n",
            "Epoch 373 Loss 7.3570\n",
            "Epoch 374 Loss 6.9244\n",
            "Epoch 375 Loss 7.1022\n",
            "Epoch 376 Loss 7.7991\n",
            "Epoch 377 Loss 8.5237\n",
            "Epoch 378 Loss 8.9717\n",
            "Epoch 379 Loss 9.3053\n",
            "Epoch 380 Loss 9.6801\n",
            "Epoch 381 Loss 9.8092\n",
            "Epoch 382 Loss 9.9036\n",
            "Epoch 383 Loss 8.9714\n",
            "Epoch 384 Loss 8.3752\n",
            "Epoch 385 Loss 8.2527\n",
            "Epoch 386 Loss 7.9848\n",
            "Epoch 387 Loss 7.5625\n",
            "Epoch 388 Loss 6.2173\n",
            "Epoch 389 Loss 4.9485\n",
            "Epoch 390 Loss 4.6455\n",
            "Epoch 391 Loss 4.8508\n",
            "Epoch 392 Loss 5.6233\n",
            "Epoch 393 Loss 6.2532\n",
            "Epoch 394 Loss 6.0781\n",
            "Epoch 395 Loss 5.6820\n",
            "Epoch 396 Loss 5.1161\n",
            "Epoch 397 Loss 4.8683\n",
            "Epoch 398 Loss 5.0123\n",
            "Epoch 399 Loss 4.7093\n",
            "Epoch 400 Loss 4.4537\n",
            "Epoch 401 Loss 4.0012\n",
            "Epoch 402 Loss 3.4657\n",
            "Epoch 403 Loss 3.2789\n",
            "Epoch 404 Loss 2.9378\n",
            "Epoch 405 Loss 3.1503\n",
            "Epoch 406 Loss 3.9022\n",
            "Epoch 407 Loss 4.8063\n",
            "Epoch 408 Loss 6.0591\n",
            "Epoch 409 Loss 7.8563\n",
            "Epoch 410 Loss 8.9861\n",
            "Epoch 411 Loss 9.6787\n",
            "Epoch 412 Loss 9.1330\n",
            "Epoch 413 Loss 8.4227\n",
            "Epoch 414 Loss 7.7851\n",
            "Epoch 415 Loss 7.0529\n",
            "Epoch 416 Loss 6.0053\n",
            "Epoch 417 Loss 5.8326\n",
            "Epoch 418 Loss 5.8901\n",
            "Epoch 419 Loss 7.1100\n",
            "Epoch 420 Loss 7.6518\n",
            "Epoch 421 Loss 6.6920\n",
            "Epoch 422 Loss 6.0229\n",
            "Epoch 423 Loss 5.3633\n",
            "Epoch 424 Loss 4.0532\n",
            "Epoch 425 Loss 3.0681\n",
            "Epoch 426 Loss 3.0162\n",
            "Epoch 427 Loss 3.6447\n",
            "Epoch 428 Loss 4.6639\n",
            "Epoch 429 Loss 5.7870\n",
            "Epoch 430 Loss 6.8677\n",
            "Epoch 431 Loss 7.7819\n",
            "Epoch 432 Loss 8.3655\n",
            "Epoch 433 Loss 9.1632\n",
            "Epoch 434 Loss 9.5060\n",
            "Epoch 435 Loss 10.1157\n",
            "Epoch 436 Loss 10.5301\n",
            "Epoch 437 Loss 10.9942\n",
            "Epoch 438 Loss 11.4682\n",
            "Epoch 439 Loss 11.2636\n",
            "Epoch 440 Loss 10.7795\n",
            "Epoch 441 Loss 9.7195\n",
            "Epoch 442 Loss 8.9614\n",
            "Epoch 443 Loss 7.9045\n",
            "Epoch 444 Loss 7.0246\n",
            "Epoch 445 Loss 6.7934\n",
            "Epoch 446 Loss 6.7845\n",
            "Epoch 447 Loss 6.9515\n",
            "Epoch 448 Loss 7.4182\n",
            "Epoch 449 Loss 8.4424\n",
            "Epoch 450 Loss 8.0953\n",
            "Epoch 451 Loss 7.3423\n",
            "Epoch 452 Loss 6.6739\n",
            "Epoch 453 Loss 6.1187\n",
            "Epoch 454 Loss 6.8310\n",
            "Epoch 455 Loss 7.3168\n",
            "Epoch 456 Loss 7.0319\n",
            "Epoch 457 Loss 6.5649\n",
            "Epoch 458 Loss 6.5641\n",
            "Epoch 459 Loss 6.8749\n",
            "Epoch 460 Loss 7.4774\n",
            "Epoch 461 Loss 7.9944\n",
            "Epoch 462 Loss 8.4773\n",
            "Epoch 463 Loss 9.0727\n",
            "Epoch 464 Loss 9.1586\n",
            "Epoch 465 Loss 8.9981\n",
            "Epoch 466 Loss 8.0858\n",
            "Epoch 467 Loss 7.2701\n",
            "Epoch 468 Loss 6.5532\n",
            "Epoch 469 Loss 6.4842\n",
            "Epoch 470 Loss 6.3928\n",
            "Epoch 471 Loss 5.3873\n",
            "Epoch 472 Loss 3.9919\n",
            "Epoch 473 Loss 3.0303\n",
            "Epoch 474 Loss 2.5210\n",
            "Epoch 475 Loss 2.5084\n",
            "Epoch 476 Loss 2.7123\n",
            "Epoch 477 Loss 3.1028\n",
            "Epoch 478 Loss 3.5679\n",
            "Epoch 479 Loss 3.7149\n",
            "Epoch 480 Loss 3.8405\n",
            "Epoch 481 Loss 4.1907\n",
            "Epoch 482 Loss 5.1828\n",
            "Epoch 483 Loss 6.3738\n",
            "Epoch 484 Loss 7.9799\n",
            "Epoch 485 Loss 9.4135\n",
            "Epoch 486 Loss 10.0945\n",
            "Epoch 487 Loss 9.8746\n",
            "Epoch 488 Loss 8.7368\n",
            "Epoch 489 Loss 7.9039\n",
            "Epoch 490 Loss 7.3857\n",
            "Epoch 491 Loss 6.7201\n",
            "Epoch 492 Loss 6.0467\n",
            "Epoch 493 Loss 5.5750\n",
            "Epoch 494 Loss 5.5329\n",
            "Epoch 495 Loss 5.4962\n",
            "Epoch 496 Loss 5.1951\n",
            "Epoch 497 Loss 5.1578\n",
            "Epoch 498 Loss 5.1859\n",
            "Epoch 499 Loss 5.4599\n",
            "Epoch 500 Loss 5.4106\n",
            "Epoch 501 Loss 5.1635\n",
            "Epoch 502 Loss 4.8886\n",
            "Epoch 503 Loss 4.8382\n",
            "Epoch 504 Loss 4.6823\n",
            "Epoch 505 Loss 4.6913\n",
            "Epoch 506 Loss 4.9593\n",
            "Epoch 507 Loss 5.2467\n",
            "Epoch 508 Loss 5.6846\n",
            "Epoch 509 Loss 5.8544\n",
            "Epoch 510 Loss 5.9825\n",
            "Epoch 511 Loss 5.8725\n",
            "Epoch 512 Loss 6.3419\n",
            "Epoch 513 Loss 6.3104\n",
            "Epoch 514 Loss 6.4561\n",
            "Epoch 515 Loss 6.2094\n",
            "Epoch 516 Loss 6.1760\n",
            "Epoch 517 Loss 5.8779\n",
            "Epoch 518 Loss 5.8278\n",
            "Epoch 519 Loss 5.7752\n",
            "Epoch 520 Loss 5.9558\n",
            "Epoch 521 Loss 6.3651\n",
            "Epoch 522 Loss 7.3915\n",
            "Epoch 523 Loss 8.3605\n",
            "Epoch 524 Loss 8.8930\n",
            "Epoch 525 Loss 9.3618\n",
            "Epoch 526 Loss 9.5286\n",
            "Epoch 527 Loss 10.0111\n",
            "Epoch 528 Loss 10.7708\n",
            "Epoch 529 Loss 11.8092\n",
            "Epoch 530 Loss 11.5057\n",
            "Epoch 531 Loss 9.9596\n",
            "Epoch 532 Loss 8.1440\n",
            "Epoch 533 Loss 7.2384\n",
            "Epoch 534 Loss 6.6164\n",
            "Epoch 535 Loss 5.6524\n",
            "Epoch 536 Loss 5.1076\n",
            "Epoch 537 Loss 4.6549\n",
            "Epoch 538 Loss 4.3468\n",
            "Epoch 539 Loss 4.4027\n",
            "Epoch 540 Loss 4.7937\n",
            "Epoch 541 Loss 5.0536\n",
            "Epoch 542 Loss 5.2927\n",
            "Epoch 543 Loss 5.5213\n",
            "Epoch 544 Loss 5.1034\n",
            "Epoch 545 Loss 4.8200\n",
            "Epoch 546 Loss 5.5540\n",
            "Epoch 547 Loss 6.9425\n",
            "Epoch 548 Loss 8.0584\n",
            "Epoch 549 Loss 9.0586\n",
            "Epoch 550 Loss 9.8167\n",
            "Epoch 551 Loss 10.2841\n",
            "Epoch 552 Loss 10.1002\n",
            "Epoch 553 Loss 10.0127\n",
            "Epoch 554 Loss 9.5052\n",
            "Epoch 555 Loss 9.1924\n",
            "Epoch 556 Loss 8.4617\n",
            "Epoch 557 Loss 8.4190\n",
            "Epoch 558 Loss 8.5472\n",
            "Epoch 559 Loss 8.2585\n",
            "Epoch 560 Loss 8.1820\n",
            "Epoch 561 Loss 7.9713\n",
            "Epoch 562 Loss 7.5826\n",
            "Epoch 563 Loss 7.4864\n",
            "Epoch 564 Loss 7.0580\n",
            "Epoch 565 Loss 6.6636\n",
            "Epoch 566 Loss 6.0459\n",
            "Epoch 567 Loss 5.5865\n",
            "Epoch 568 Loss 5.4825\n",
            "Epoch 569 Loss 5.5390\n",
            "Epoch 570 Loss 5.6609\n",
            "Epoch 571 Loss 5.1874\n",
            "Epoch 572 Loss 4.2089\n",
            "Epoch 573 Loss 3.5531\n",
            "Epoch 574 Loss 3.2584\n",
            "Epoch 575 Loss 3.2150\n",
            "Epoch 576 Loss 3.4891\n",
            "Epoch 577 Loss 3.6274\n",
            "Epoch 578 Loss 3.8552\n",
            "Epoch 579 Loss 4.3381\n",
            "Epoch 580 Loss 4.6220\n",
            "Epoch 581 Loss 4.8745\n",
            "Epoch 582 Loss 5.3137\n",
            "Epoch 583 Loss 6.0598\n",
            "Epoch 584 Loss 6.9680\n",
            "Epoch 585 Loss 7.5223\n",
            "Epoch 586 Loss 7.9029\n",
            "Epoch 587 Loss 7.6614\n",
            "Epoch 588 Loss 7.4766\n",
            "Epoch 589 Loss 7.0525\n",
            "Epoch 590 Loss 6.3276\n",
            "Epoch 591 Loss 5.8174\n",
            "Epoch 592 Loss 5.7997\n",
            "Epoch 593 Loss 5.6278\n",
            "Epoch 594 Loss 5.5810\n",
            "Epoch 595 Loss 5.3765\n",
            "Epoch 596 Loss 5.0746\n",
            "Epoch 597 Loss 4.8926\n",
            "Epoch 598 Loss 4.8739\n",
            "Epoch 599 Loss 4.9884\n",
            "Epoch 600 Loss 5.0198\n",
            "Epoch 601 Loss 4.8206\n",
            "Epoch 602 Loss 3.7950\n",
            "Epoch 603 Loss 3.0386\n",
            "Epoch 604 Loss 2.6330\n",
            "Epoch 605 Loss 2.3615\n",
            "Epoch 606 Loss 2.1731\n",
            "Epoch 607 Loss 2.1332\n",
            "Epoch 608 Loss 2.5200\n",
            "Epoch 609 Loss 3.3066\n",
            "Epoch 610 Loss 4.3171\n",
            "Epoch 611 Loss 5.5079\n",
            "Epoch 612 Loss 7.2942\n",
            "Epoch 613 Loss 8.9544\n",
            "Epoch 614 Loss 9.7676\n",
            "Epoch 615 Loss 11.2628\n",
            "Epoch 616 Loss 12.0098\n",
            "Epoch 617 Loss 11.6004\n",
            "Epoch 618 Loss 9.4562\n",
            "Epoch 619 Loss 7.7954\n",
            "Epoch 620 Loss 7.0092\n",
            "Epoch 621 Loss 6.3086\n",
            "Epoch 622 Loss 6.0688\n",
            "Epoch 623 Loss 5.8912\n",
            "Epoch 624 Loss 6.0834\n",
            "Epoch 625 Loss 6.3821\n",
            "Epoch 626 Loss 6.6980\n",
            "Epoch 627 Loss 6.8039\n",
            "Epoch 628 Loss 6.5434\n",
            "Epoch 629 Loss 6.1680\n",
            "Epoch 630 Loss 6.1388\n",
            "Epoch 631 Loss 6.2986\n",
            "Epoch 632 Loss 6.7284\n",
            "Epoch 633 Loss 6.8580\n",
            "Epoch 634 Loss 7.1771\n",
            "Epoch 635 Loss 7.0608\n",
            "Epoch 636 Loss 7.1017\n",
            "Epoch 637 Loss 7.6340\n",
            "Epoch 638 Loss 8.1182\n",
            "Epoch 639 Loss 8.3643\n",
            "Epoch 640 Loss 8.1539\n",
            "Epoch 641 Loss 7.8792\n",
            "Epoch 642 Loss 8.0686\n",
            "Epoch 643 Loss 8.3651\n",
            "Epoch 644 Loss 8.4295\n",
            "Epoch 645 Loss 8.1024\n",
            "Epoch 646 Loss 7.6538\n",
            "Epoch 647 Loss 7.6534\n",
            "Epoch 648 Loss 7.5127\n",
            "Epoch 649 Loss 7.5716\n",
            "Epoch 650 Loss 7.5487\n",
            "Epoch 651 Loss 7.7549\n",
            "Epoch 652 Loss 7.9179\n",
            "Epoch 653 Loss 8.1752\n",
            "Epoch 654 Loss 8.8146\n",
            "Epoch 655 Loss 9.3636\n",
            "Epoch 656 Loss 9.7394\n",
            "Epoch 657 Loss 9.9032\n",
            "Epoch 658 Loss 9.5138\n",
            "Epoch 659 Loss 9.1689\n",
            "Epoch 660 Loss 8.3826\n",
            "Epoch 661 Loss 7.6491\n",
            "Epoch 662 Loss 7.3284\n",
            "Epoch 663 Loss 7.1384\n",
            "Epoch 664 Loss 7.0076\n",
            "Epoch 665 Loss 6.8393\n",
            "Epoch 666 Loss 6.6843\n",
            "Epoch 667 Loss 6.3369\n",
            "Epoch 668 Loss 5.9312\n",
            "Epoch 669 Loss 5.7910\n",
            "Epoch 670 Loss 5.9646\n",
            "Epoch 671 Loss 5.9610\n",
            "Epoch 672 Loss 5.8362\n",
            "Epoch 673 Loss 5.5929\n",
            "Epoch 674 Loss 5.0391\n",
            "Epoch 675 Loss 4.7546\n",
            "Epoch 676 Loss 4.7028\n",
            "Epoch 677 Loss 4.6664\n",
            "Epoch 678 Loss 5.0500\n",
            "Epoch 679 Loss 5.1022\n",
            "Epoch 680 Loss 4.5616\n",
            "Epoch 681 Loss 4.4634\n",
            "Epoch 682 Loss 4.5868\n",
            "Epoch 683 Loss 4.4764\n",
            "Epoch 684 Loss 3.9973\n",
            "Epoch 685 Loss 3.6138\n",
            "Epoch 686 Loss 3.3404\n",
            "Epoch 687 Loss 3.1320\n",
            "Epoch 688 Loss 2.9384\n",
            "Epoch 689 Loss 2.7655\n",
            "Epoch 690 Loss 2.3026\n",
            "Epoch 691 Loss 2.0769\n",
            "Epoch 692 Loss 2.1684\n",
            "Epoch 693 Loss 2.4937\n",
            "Epoch 694 Loss 2.7314\n",
            "Epoch 695 Loss 2.7554\n",
            "Epoch 696 Loss 2.4964\n",
            "Epoch 697 Loss 2.4300\n",
            "Epoch 698 Loss 2.6248\n",
            "Epoch 699 Loss 2.9390\n"
          ]
        }
      ]
    },
    {
      "cell_type": "code",
      "source": [
        "ypred=model.predict(X)"
      ],
      "metadata": {
        "id": "9MNnLk2eIrJE"
      },
      "execution_count": null,
      "outputs": []
    },
    {
      "cell_type": "code",
      "source": [
        "np.mean(ypred==y)"
      ],
      "metadata": {
        "colab": {
          "base_uri": "https://localhost:8080/"
        },
        "id": "FUrL3a0bL_7K",
        "outputId": "cd39966b-ee6c-41ea-9cea-dabee2fdfb8e"
      },
      "execution_count": null,
      "outputs": [
        {
          "output_type": "execute_result",
          "data": {
            "text/plain": [
              "0.6132442960489705"
            ]
          },
          "metadata": {},
          "execution_count": 204
        }
      ]
    },
    {
      "cell_type": "code",
      "source": [
        "plt.imshow(X[20].reshape(8,8))"
      ],
      "metadata": {
        "colab": {
          "base_uri": "https://localhost:8080/",
          "height": 283
        },
        "id": "TCGQ27Q_M7uJ",
        "outputId": "f25b64c0-ea84-4fcc-e877-25c78c3e9cd9"
      },
      "execution_count": null,
      "outputs": [
        {
          "output_type": "execute_result",
          "data": {
            "text/plain": [
              "<matplotlib.image.AxesImage at 0x7fa81993d650>"
            ]
          },
          "metadata": {},
          "execution_count": 205
        },
        {
          "output_type": "display_data",
          "data": {
            "text/plain": [
              "<Figure size 432x288 with 1 Axes>"
            ],
            "image/png": "[encoded data removed]"
          },
          "metadata": {
            "needs_background": "light"
          }
        }
      ]
    },
    {
      "cell_type": "code",
      "source": [
        "ypred[20]"
      ],
      "metadata": {
        "colab": {
          "base_uri": "https://localhost:8080/"
        },
        "id": "Q6pb-Y_uNXXJ",
        "outputId": "3d402810-f9f1-40bf-8fc5-e50000bb8d9c"
      },
      "execution_count": null,
      "outputs": [
        {
          "output_type": "execute_result",
          "data": {
            "text/plain": [
              "0"
            ]
          },
          "metadata": {},
          "execution_count": 206
        }
      ]
    },
    {
      "cell_type": "code",
      "source": [
        "y[2]"
      ],
      "metadata": {
        "colab": {
          "base_uri": "https://localhost:8080/"
        },
        "id": "Xi7zYVFfNay3",
        "outputId": "6c9afa3b-4f7a-41a7-ed9f-f18124e11372"
      },
      "execution_count": null,
      "outputs": [
        {
          "output_type": "execute_result",
          "data": {
            "text/plain": [
              "2"
            ]
          },
          "metadata": {},
          "execution_count": 207
        }
      ]
    }
  ]
}